{
 "cells": [
  {
   "cell_type": "code",
   "execution_count": 1,
   "metadata": {},
   "outputs": [
    {
     "name": "stdout",
     "output_type": "stream",
     "text": [
      "Enter the Stock Symbol: TGT\n",
      "Total number of rows  16\n",
      "\n",
      "Printing each Stock details\n",
      "\n",
      "\n",
      " | Target Corporation  | TGT  | Previous Close  | 121.67\n",
      " | Target Corporation  | TGT  | Open  | 121.26\n",
      " | Target Corporation  | TGT  | Bid  | 122.42 x 800\n",
      " | Target Corporation  | TGT  | Ask  | 122.42 x 1300\n",
      " | Target Corporation  | TGT  | Day's Range  | 121.15 - 122.99\n",
      " | Target Corporation  | TGT  | 52 Week Range  | 80.03 - 130.24\n",
      " | Target Corporation  | TGT  | Volume  | 1,431,706\n",
      " | Target Corporation  | TGT  | Avg. Volume  | 5,212,026\n",
      " | Target Corporation  | TGT  | Market Cap  | 61.342B\n",
      " | Target Corporation  | TGT  | Beta (5Y Monthly)  | 0.79\n",
      " | Target Corporation  | TGT  | PE Ratio (TTM)  | 22.71\n",
      " | Target Corporation  | TGT  | EPS (TTM)  | 5.40\n",
      " | Target Corporation  | TGT  | Earnings Date  | Aug 19, 2020\n",
      " | Target Corporation  | TGT  | Forward Dividend & Yield  | 2.72 (2.24%)\n",
      " | Target Corporation  | TGT  | Ex-Dividend Date  | Aug 18, 2020\n",
      " | Target Corporation  | TGT  | 1y Target Est  | 129.59\n",
      "sucess\n"
     ]
    }
   ],
   "source": [
    "import mysql.connector\n",
    "import requests\n",
    "import pandas as pd\n",
    "from bs4 import BeautifulSoup\n",
    "from mysql.connector import Error\n",
    "\n",
    "\n",
    "try:\n",
    "    connection = mysql.connector.connect(host=\"localhost\", user=\"root\", password=\"MomDad@2020\", database=\"HR_COMPANY_DATA\")\n",
    "    \n",
    "    sql_Query = \"\"\"SELECT * FROM COMPANY_STOCK_DETAILS_LOOK_UP WHERE COMPANY_STOCK_SYM = %s\"\"\"\n",
    "    \n",
    "    cursor = connection.cursor(dictionary=True)\n",
    "    #val = 'Ace Hardware'\n",
    "    val = input(\"Enter the Stock Symbol: \")\n",
    "    cursor.execute(sql_Query,(val,))\n",
    "    records = cursor.fetchall()\n",
    "    print(\"Total number of rows \", cursor.rowcount)\n",
    "\n",
    "# selecting column value into varible\n",
    "    print(\"\\nPrinting each Stock details\\n\\n\")\n",
    "    #print (\" Name \", \" Sym \",  \" Title \", \"Value\")\n",
    "    for row in records:\n",
    "        name = row[\"COMPANY_NAME\"]\n",
    "        symbol = row[\"COMPANY_STOCK_SYM\"]\n",
    "        stock_title = row[\"COMPANY_STOCK_TITLE\"]\n",
    "        stock_value = row[\"COMPANY_STOCK_VALUE\"]\n",
    "        \n",
    "        #print(tabulate([name, symbol, stock_title, stock_value], headers=['Name', 'Sym', 'Title', 'Value']))\n",
    "        print (\" | \"+name, \" | \"+symbol, \" | \"+stock_title, \" | \"+stock_value)\n",
    "        \n",
    "        \n",
    "        \n",
    "        \n",
    "except mysql.connector.Error as error:\n",
    "    print(\"Failed to get record from database: {}\".format(error))\n",
    "else:\n",
    "    print(\"sucess\")\n",
    "finally:\n",
    "    if (connection.is_connected()):\n",
    "        cursor.close()\n",
    "        connection.close()\n",
    "        #print(\"MySQL connection is closed\")"
   ]
  },
  {
   "cell_type": "code",
   "execution_count": null,
   "metadata": {},
   "outputs": [],
   "source": []
  }
 ],
 "metadata": {
  "kernelspec": {
   "display_name": "Python 3",
   "language": "python",
   "name": "python3"
  },
  "language_info": {
   "codemirror_mode": {
    "name": "ipython",
    "version": 3
   },
   "file_extension": ".py",
   "mimetype": "text/x-python",
   "name": "python",
   "nbconvert_exporter": "python",
   "pygments_lexer": "ipython3",
   "version": "3.7.6"
  }
 },
 "nbformat": 4,
 "nbformat_minor": 4
}
