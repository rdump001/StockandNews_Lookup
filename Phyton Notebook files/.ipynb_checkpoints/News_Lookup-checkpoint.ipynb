{
 "cells": [
  {
   "cell_type": "code",
   "execution_count": 2,
   "metadata": {},
   "outputs": [
    {
     "name": "stdout",
     "output_type": "stream",
     "text": [
      "Enter the Company Name: ACE Hardware\n",
      "Total number of rows  0\n",
      "\n",
      "    NEWS    \n",
      "\n",
      "\n",
      "sucess\n"
     ]
    }
   ],
   "source": [
    "import mysql.connector\n",
    "import requests\n",
    "import pandas as pd\n",
    "from bs4 import BeautifulSoup\n",
    "from mysql.connector import Error\n",
    "\n",
    "\n",
    "try:\n",
    "    connection = mysql.connector.connect(host=\"localhost\", user=\"root\", password=\"MomDad@2020\", database=\"HR_COMPANY_DATA\")\n",
    "    \n",
    "    sql_Query = \"\"\"SELECT * FROM COMPANY_NEWS_LOOK_UP WHERE COMPANY_NAME = %s\"\"\"\n",
    "    \n",
    "    cursor = connection.cursor(dictionary=True)\n",
    "    #val = 'Ace Hardware'\n",
    "    val = input(\"Enter the Company Name: \")\n",
    "    cursor.execute(sql_Query,(val,))\n",
    "    records = cursor.fetchall()\n",
    "    print(\"Total number of rows \", cursor.rowcount)\n",
    "\n",
    "    print(\"\\n    NEWS    \\n\\n\")\n",
    "    for row in records:\n",
    "        name = row[\"COMPANY_NAME\"]\n",
    "        title = row[\"ARTICLE_TITLE\"]\n",
    "        source = row[\"ARTICLE_SOURCE\"]\n",
    "        url = row[\"ARTICLE_URL\"]\n",
    "        \n",
    "        print (\" | \"+name, \" | \"+title, \" | \"+source, \" | \"+url)\n",
    "        \n",
    "        \n",
    "        \n",
    "        \n",
    "except mysql.connector.Error as error:\n",
    "    print(\"Failed to get record from database: {}\".format(error))\n",
    "else:\n",
    "    print(\"sucess\")\n",
    "finally:\n",
    "    if (connection.is_connected()):\n",
    "        cursor.close()\n",
    "        connection.close()\n",
    "        #print(\"MySQL connection is closed\")"
   ]
  },
  {
   "cell_type": "code",
   "execution_count": null,
   "metadata": {},
   "outputs": [],
   "source": []
  }
 ],
 "metadata": {
  "kernelspec": {
   "display_name": "Python 3",
   "language": "python",
   "name": "python3"
  },
  "language_info": {
   "codemirror_mode": {
    "name": "ipython",
    "version": 3
   },
   "file_extension": ".py",
   "mimetype": "text/x-python",
   "name": "python",
   "nbconvert_exporter": "python",
   "pygments_lexer": "ipython3",
   "version": "3.7.6"
  }
 },
 "nbformat": 4,
 "nbformat_minor": 4
}
