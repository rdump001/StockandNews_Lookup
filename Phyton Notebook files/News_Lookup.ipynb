{
 "cells": [
  {
   "cell_type": "code",
   "execution_count": 3,
   "metadata": {},
   "outputs": [
    {
     "name": "stdout",
     "output_type": "stream",
     "text": [
      "Enter the Company Name: Target Corporation\n",
      "Total number of rows  10\n",
      "\n",
      "    NEWS    \n",
      "\n",
      "\n",
      " | Target Corporation  | Were Hedge Funds Right About Warming Up To Target Corporation (TGT)?  | Yahoo Finance  | https://finance.yahoo.com/news/were-hedge-funds-warming-target-191819946.html&sa=U&ved=2ahUKEwjSt_W9xNTqAhUSG6YKHQqzAX4QxfQBMAB6BAgDEAE&usg=AOvVaw0AHpnySwLMWH_ykY0di56e\n",
      " | Target Corporation  | Target Corporation - Consensus Indicates Potential 9.8% Upside  | DirectorsTalk Interviews  | https://www.directorstalkinterviews.com/target-corporation-consensus-indicates-potential-9-8-upside-3/412842753&sa=U&ved=2ahUKEwjSt_W9xNTqAhUSG6YKHQqzAX4QxfQBMAF6BAgIEAE&usg=AOvVaw1a3ArUcdxt_cugwdbthPPM\n",
      " | Target Corporation  | Target Corporation (TGT) is set to bring smile on the investors face as Analysts sets mean Target price of $129.59  | The InvestChronicle  | https://investchronicle.com/2020/07/13/target-corporation-tgt-is-set-to-bring-smile-on-the-investors-face-as-analysts-sets-mean-target-price-of-129-59/&sa=U&ved=2ahUKEwjSt_W9xNTqAhUSG6YKHQqzAX4QxfQBMAJ6BAgJEAE&usg=AOvVaw3aZOTF5t8_6MMZFVQP1pCm\n",
      " | Target Corporation  | Target, CVS to Require Face Masks in Stores  | marketscreener.com  | https://www.marketscreener.com/TARGET-CORPORATION-12291/news/Target-CVS-to-Require-Face-Masks-in-Stores-30937913/&sa=U&ved=2ahUKEwjSt_W9xNTqAhUSG6YKHQqzAX4QxfQBMAN6BAgHEAE&usg=AOvVaw2HXGrson9VQnrytgRNPnQa\n",
      " | Target Corporation  | Target confirms employee positive test | News, Sports, Jobs  | Fort Dodge Messenger  | https://www.messengernews.net/news/local-news/2020/07/target-confirms-employee-positive-test/&sa=U&ved=2ahUKEwjSt_W9xNTqAhUSG6YKHQqzAX4QxfQBMAR6BAgAEAE&usg=AOvVaw2LseAPV1V7yL5w2cKnN6Rt\n",
      " | Target Corporation  | Target on a Strong Footing Courtesy of Digitization Efforts  | Yahoo Finance  | https://finance.yahoo.com/news/target-strong-footing-courtesy-digitization-140802151.html&sa=U&ved=2ahUKEwjSt_W9xNTqAhUSG6YKHQqzAX4QxfQBMAV6BAgCEAE&usg=AOvVaw0yEak7ZxuqgIEjIUS9HbSR\n",
      " | Target Corporation  | How was Target founded?  | Fox Business  | https://www.foxbusiness.com/lifestyle/how-was-target-founded&sa=U&ved=2ahUKEwjSt_W9xNTqAhUSG6YKHQqzAX4QxfQBMAZ6BAgGEAE&usg=AOvVaw2-jPhko0_tHGcUd-3h5BEV\n",
      " | Target Corporation  | Is Target Corporation’s Dividend Hike a Surprise to Income Investors?  | Income Investors  | https://www.incomeinvestors.com/is-target-corporations-dividend-hike-a-surprise/56512/&sa=U&ved=2ahUKEwjSt_W9xNTqAhUSG6YKHQqzAX4QxfQBMAd6BAgEEAE&usg=AOvVaw3py8ORhtRTbyb4gkqy5wGM\n",
      " | Target Corporation  | Why Target is raising its minimum wage to $15  | Marketplace.org  | https://www.marketplace.org/2020/06/17/why-target-is-raising-its-minimum-wage-to-15/&sa=U&ved=2ahUKEwjSt_W9xNTqAhUSG6YKHQqzAX4QxfQBMAh6BAgFEAE&usg=AOvVaw1EXX9UMJ8VE_Bn7xVhROrJ\n",
      " | Target Corporation  | Goreville Artist's work featured on Target notebooks – The Vienna ...  | The Vienna TImes  | https://theviennatimes.com/2020/06/goreville-artists-work-featured-on-target-notebooks/&sa=U&ved=2ahUKEwjSt_W9xNTqAhUSG6YKHQqzAX4QxfQBMAl6BAgBEAE&usg=AOvVaw2wZL1luHHt2bBwzQGTyjFl\n",
      "sucess\n"
     ]
    }
   ],
   "source": [
    "import mysql.connector\n",
    "import requests\n",
    "import pandas as pd\n",
    "from bs4 import BeautifulSoup\n",
    "from mysql.connector import Error\n",
    "\n",
    "\n",
    "try:\n",
    "    connection = mysql.connector.connect(host=\"localhost\", user=\"root\", password=\"MomDad@2020\", database=\"HR_COMPANY_DATA\")\n",
    "    \n",
    "    sql_Query = \"\"\"SELECT * FROM COMPANY_NEWS_LOOK_UP WHERE COMPANY_NAME = %s\"\"\"\n",
    "    \n",
    "    cursor = connection.cursor(dictionary=True)\n",
    "    #val = 'Ace Hardware'\n",
    "    val = input(\"Enter the Company Name: \")\n",
    "    cursor.execute(sql_Query,(val,))\n",
    "    records = cursor.fetchall()\n",
    "    print(\"Total number of rows \", cursor.rowcount)\n",
    "\n",
    "    print(\"\\n    NEWS    \\n\\n\")\n",
    "    for row in records:\n",
    "        name = row[\"COMPANY_NAME\"]\n",
    "        title = row[\"ARTICLE_TITLE\"]\n",
    "        source = row[\"ARTICLE_SOURCE\"]\n",
    "        url = row[\"ARTICLE_URL\"]\n",
    "        \n",
    "        print (\" | \"+name, \" | \"+title, \" | \"+source, \" | \"+url)\n",
    "        \n",
    "        \n",
    "        \n",
    "        \n",
    "except mysql.connector.Error as error:\n",
    "    print(\"Failed to get record from database: {}\".format(error))\n",
    "else:\n",
    "    print(\"sucess\")\n",
    "finally:\n",
    "    if (connection.is_connected()):\n",
    "        cursor.close()\n",
    "        connection.close()\n",
    "        #print(\"MySQL connection is closed\")"
   ]
  },
  {
   "cell_type": "code",
   "execution_count": null,
   "metadata": {},
   "outputs": [],
   "source": []
  },
  {
   "cell_type": "code",
   "execution_count": null,
   "metadata": {},
   "outputs": [],
   "source": []
  }
 ],
 "metadata": {
  "kernelspec": {
   "display_name": "Python 3",
   "language": "python",
   "name": "python3"
  },
  "language_info": {
   "codemirror_mode": {
    "name": "ipython",
    "version": 3
   },
   "file_extension": ".py",
   "mimetype": "text/x-python",
   "name": "python",
   "nbconvert_exporter": "python",
   "pygments_lexer": "ipython3",
   "version": "3.7.6"
  }
 },
 "nbformat": 4,
 "nbformat_minor": 4
}
